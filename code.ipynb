{
 "cells": [
  {
   "cell_type": "code",
   "execution_count": null,
   "id": "6cfc6f4b",
   "metadata": {
    "pycharm": {
     "name": "#%%\n"
    }
   },
   "outputs": [],
   "source": [
    "import json\n",
    "\n",
    "with open('_vg_85_bgg5jsons 2/0/30_cl.json') as f:\n",
    "    templates = json.load(f)\n",
    "templates.keys()"
   ]
  },
  {
   "cell_type": "code",
   "execution_count": null,
   "id": "68665f71",
   "metadata": {
    "pycharm": {
     "name": "#%%\n"
    }
   },
   "outputs": [],
   "source": [
    "templates['cargo_groups']"
   ]
  },
  {
   "cell_type": "code",
   "execution_count": null,
   "id": "053b245e",
   "metadata": {
    "pycharm": {
     "name": "#%%\n"
    }
   },
   "outputs": [],
   "source": [
    "mass = 0\n",
    "for i in templates['cargo_groups']:\n",
    "    mass += i['mass']*i['count']\n",
    "mass"
   ]
  },
  {
   "cell_type": "code",
   "execution_count": null,
   "id": "dbacf9a1",
   "metadata": {
    "pycharm": {
     "name": "#%%\n"
    }
   },
   "outputs": [],
   "source": [
    "templates['cargo_space']"
   ]
  },
  {
   "cell_type": "code",
   "execution_count": null,
   "id": "934ed9f6",
   "metadata": {
    "pycharm": {
     "name": "#%%\n"
    }
   },
   "outputs": [],
   "source": [
    "class RectangularCuboid:\n",
    "    # Дефолтные координаты объекта равны None(null)\n",
    "    x_center = None\n",
    "    y_center = None\n",
    "    z_center = None\n",
    "    # ориетация может принимать занчения от 0 до 5(пикча в вк)\n",
    "    orientation = 0\n",
    "\n",
    "    # Конструктор\n",
    "    def __init__(self, number,sizes):\n",
    "        # нумерование коробки\n",
    "        self.number = number\n",
    "        # Обработка sizes, можно прям из json закидывать, понимает как словарь, так и список. Все измерения сразу в метрах\n",
    "        if isinstance(sizes, dict):\n",
    "            self.size = {'width' : sizes['width']/1000, \"height\" : sizes['height']/1000, \"length\" : sizes['length']/1000}\n",
    "        else:\n",
    "            self.size = {'width' : sizes[0]/1000, \"height\" : sizes[1]/1000, \"length\" : sizes[2]/1000}\n",
    "\n",
    "        # объем в м^3\n",
    "        self.volume = self.size['width']*self.size['height']*self.size['length']\n",
    "        # словарь площадей по всем трем плоскостям\n",
    "        self.square = {'xz_square' : self.size['width']*self.size['height'], 'xy_square' : self.size['height']*self.size['length'], 'yz_square' : self.size['length']*self.size['width']}\n",
    "        # Значения по умолчанию для переменных ориентирования\n",
    "        self.size_orientated = {'width' : self.size['width'], \"height\" : self.size['height'], \"length\" : self.size['length']}\n",
    "        self.square_orientated = self.square;\n",
    "\n",
    "    # функция ориентирования в простарнстве, запись происходит в другие переменные с постфиксом _orientated\n",
    "    # Square_orientated хранит ориентированные площади после изменение ориентации\n",
    "    def orient_box(self, orient):\n",
    "        self.orientation = orient\n",
    "        if orient == 0:\n",
    "            self.size_orientated = {'width' : self.size['width'], \"height\" : self.size['height'], \"length\" : self.size['length']}\n",
    "        if orient == 1:\n",
    "            self.size_orientated = {'width' : self.size['length'], \"height\" : self.size['height'], \"length\" : self.size['width']}\n",
    "        if orient == 2:\n",
    "            self.size_orientated = {'width' : self.size['height'], \"height\" : self.size['width'], \"length\" : self.size['length']}\n",
    "        if orient == 3:\n",
    "            self.size_orientated = {'width' : self.size['length'], \"height\" : self.size['width'], \"length\" : self.size['height']}\n",
    "        if orient == 4:\n",
    "            self.size_orientated = {'width' : self.size['height'], \"height\" : self.size['length'], \"length\" : self.size['width']}\n",
    "        if orient == 5:\n",
    "            self.size_orientated = {'width' : self.size['width'], \"height\" : self.size['length'], \"length\" : self.size['height']}\n",
    "        self.square_orientated = {'xz_square' : self.size_orientated['width']*self.size_orientated['height'], 'xy_square' : self.size_orientated['height']*self.size_orientated['length'], 'yz_square' : self.size_orientated['length']*self.size_orientated['width']}\n",
    "\n",
    "    # Возвращает информацию обо всех переменных в виде словаря\n",
    "    def get_info(self):\n",
    "        info_dict = {\"number\" : self.number, \"x_center\" : self.x_center, \"y_center\" : self.y_center, \"z_center\" : self.z_center, \"volume\":self.volume, \"square\" : self.square, \"size\" : self.size, \"orientation\" : self.orientation, \"size_orientated\" : self.size_orientated, \"square_orientated\" : self.square_orientated}\n",
    "        return info_dict\n",
    "\n",
    "x = RectangularCuboid(0,templates['cargo_groups'][0]['size'])\n",
    "x.get_info()\n",
    "\n",
    " \n"
   ]
  },
  {
   "cell_type": "code",
   "execution_count": null,
   "id": "107de3d7",
   "metadata": {
    "pycharm": {
     "name": "#%%\n"
    }
   },
   "outputs": [],
   "source": [
    "# Код для создания изображений графиков для всех файлов и типов коробок в них\n",
    "import os.path\n",
    "import matplotlib.pylab as plt\n",
    "for address, dirs, files in os.walk('./_vg_85_bgg5jsons 2/'):\n",
    "    for name in files:\n",
    "        print(os.path.join(address, name))\n",
    "        pa = os.path.join(address, name)\n",
    "        if pa == './_vg_85_bgg5jsons 2/.DS_Store':\n",
    "            continue\n",
    "        else:\n",
    "            with open(pa) as f:\n",
    "                templates = json.load(f)\n",
    "            volume = {}\n",
    "            # print(templates['cargo_groups'][0]['size'])\n",
    "            if isinstance(templates['cargo_groups'][0]['size'], dict):\n",
    "                for j,i in enumerate(templates['cargo_groups']):\n",
    "                    volume[j] = i['size']['width']*i['size']['height']*i['size']['length']/1000000000\n",
    "            else:\n",
    "                for j,i in enumerate(templates['cargo_groups']):\n",
    "                    volume[j] = i['size'][0]*i['size'][1]*i['size'][2]/1000000000\n",
    "\n",
    "            lists = sorted(volume.items())\n",
    "            x, y = zip(*lists)\n",
    "            plt.bar(x, y)\n",
    "            plt.savefig('./test_dir/'+name.split('.')[0]+'.png')\n",
    "            plt.clf()\n",
    "            plt.close()\n",
    "            f.close()"
   ]
  },
  {
   "cell_type": "code",
   "execution_count": null,
   "id": "84ffd3c2",
   "metadata": {
    "pycharm": {
     "name": "#%%\n"
    }
   },
   "outputs": [],
   "source": [
    "# Код для парсинга всех json\n",
    "import os.path\n",
    "json_list = []\n",
    "for address, dirs, files in os.walk('./_vg_85_bgg5jsons 2/'):\n",
    "    for name in files:\n",
    "        # print(os.path.join(address, name))\n",
    "        pa = os.path.join(address, name)\n",
    "        if pa == './_vg_85_bgg5jsons 2/.DS_Store':\n",
    "            continue\n",
    "        else:\n",
    "            with open(pa) as f:\n",
    "                templates = json.load(f)\n",
    "            #Переменные для объемов и размеров\n",
    "            volume_dict = {}\n",
    "            volume_sum = 0\n",
    "            sizes_dict = {}\n",
    "            #Обработка size для групп коробок, может быть как лист так и словарь\n",
    "            if isinstance(templates['cargo_groups'][0]['size'], dict):\n",
    "                for j,i in enumerate(templates['cargo_groups']):\n",
    "                    volume_dict[j] = i['size']['width']*i['size']['height']*i['size']['length']/1000000000\n",
    "                    volume_sum+= i['size']['width']*i['size']['height']*i['size']['length']/1000000000 * i['count']\n",
    "                    sizes_dict[j] = i['size']\n",
    "            else:\n",
    "                for j,i in enumerate(templates['cargo_groups']):\n",
    "                    volume_dict[j] = i['size'][0]*i['size'][1]*i['size'][2]/1000000000\n",
    "                    volume_sum+= i['size'][0]*i['size'][1]*i['size'][2]/1000000000 * i['count']\n",
    "                    sizes_dict[j] = {'width' : i['size'][0], 'height': i['size'][1], 'length': i['size'][2]}\n",
    "                    \n",
    "            #Аналогично с размером палета\n",
    "            if isinstance(templates['cargo_space']['size'], dict):\n",
    "                volume_cargo = templates['cargo_space']['size']['width']*templates['cargo_space']['size']['height']*templates['cargo_space']['size']['length']/1000000000\n",
    "            else:\n",
    "                volume_cargo = templates['cargo_space']['size'][0]*templates['cargo_space']['size'][1]*templates['cargo_space']['size'][2]/1000000000\n",
    "            # Подсчет процента\n",
    "            volume_percent = volume_sum/volume_cargo\n",
    "            # Теперь размеры минимальные и максимальные по каждому измерению\n",
    "            values_dict = {}\n",
    "            for i, j in sizes_dict.items():\n",
    "                if not values_dict:\n",
    "                    values_dict['width_min'] = {i : j['width']}\n",
    "                    values_dict['height_min'] = {i : j['height']}\n",
    "                    values_dict['length_min'] = {i : j['height']}\n",
    "                    values_dict['width_max'] = {i : j['width']}\n",
    "                    values_dict['height_max'] = {i : j['height']}\n",
    "                    values_dict['length_max'] = {i : j['height']}\n",
    "                else:\n",
    "                    if j['width'] > list(values_dict['width_max'].values())[0]:\n",
    "                        values_dict['width_max'] = {i : j['width']}\n",
    "                    if j['height'] > list(values_dict['height_max'].values())[0]:\n",
    "                        values_dict['height_max'] = {i : j['height']}\n",
    "                    if j['length'] > list(values_dict['length_max'].values())[0]:\n",
    "                        values_dict['length_max'] = {i : j['length']}\n",
    "                        \n",
    "                    if j['width'] < list(values_dict['width_min'].values())[0]:\n",
    "                        values_dict['width_min'] = {i : j['width']}\n",
    "                    if j['height'] < list(values_dict['height_min'].values())[0]:\n",
    "                        values_dict['height_min'] = {i : j['height']}\n",
    "                    if j['length'] < list(values_dict['length_min'].values())[0]:\n",
    "                        values_dict['length_min'] = {i : j['length']}\n",
    "            # Запись в финальный словарь\n",
    "            json_dict = {'file' : name, 'volume_cargo' : volume_cargo, 'volume_boxs' : volume_sum, 'volume_percent': volume_percent, 'sizes_idbox_min_max' : values_dict}\n",
    "            # Добавление словаря в список\n",
    "            json_list.append(json_dict)\n",
    "# Создание единого файла\n",
    "final_dict = {'data' : json_list}\n",
    "with open('result.json', 'w') as fp:\n",
    "    json.dump(final_dict, fp)"
   ]
  },
  {
   "cell_type": "code",
   "execution_count": null,
   "id": "cf8c3b5f",
   "metadata": {
    "pycharm": {
     "name": "#%%\n"
    }
   },
   "outputs": [],
   "source": [
    "# Вывод содержимого листа\n",
    "json_list"
   ]
  }
 ],
 "metadata": {
  "kernelspec": {
   "display_name": "Python 3 (ipykernel)",
   "language": "python",
   "name": "python3"
  },
  "language_info": {
   "codemirror_mode": {
    "name": "ipython",
    "version": 3
   },
   "file_extension": ".py",
   "mimetype": "text/x-python",
   "name": "python",
   "nbconvert_exporter": "python",
   "pygments_lexer": "ipython3",
   "version": "3.9.12"
  }
 },
 "nbformat": 4,
 "nbformat_minor": 5
}